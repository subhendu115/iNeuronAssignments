{
  "nbformat": 4,
  "nbformat_minor": 0,
  "metadata": {
    "colab": {
      "name": "Untitled14.ipynb",
      "provenance": [],
      "authorship_tag": "ABX9TyPbwelHHJ15iXu7yTFt7Oez"
    },
    "kernelspec": {
      "name": "python3",
      "display_name": "Python 3"
    }
  },
  "cells": [
    {
      "cell_type": "markdown",
      "metadata": {
        "id": "7ToqT9BB8Poe",
        "colab_type": "text"
      },
      "source": [
        ""
      ]
    },
    {
      "cell_type": "markdown",
      "metadata": {
        "id": "nWKDcjQK8RR8",
        "colab_type": "text"
      },
      "source": [
        "1"
      ]
    },
    {
      "cell_type": "code",
      "metadata": {
        "id": "Key_Td_q8Sjg",
        "colab_type": "code",
        "colab": {
          "base_uri": "https://localhost:8080/",
          "height": 330
        },
        "outputId": "cfa855ef-65c8-461c-b969-0313693da696"
      },
      "source": [
        "for i in range(0,5,1):\n",
        "  for j in range(i+1):\n",
        "    print(\"*\",end =\" \")\n",
        "  print(\"\\n\")\n",
        "for i in range(4,0,-1):\n",
        "  for j in range(i):\n",
        "    print(\"*\",end =\" \")\n",
        "  print(\"\\n\")"
      ],
      "execution_count": 19,
      "outputs": [
        {
          "output_type": "stream",
          "text": [
            "* \n",
            "\n",
            "* * \n",
            "\n",
            "* * * \n",
            "\n",
            "* * * * \n",
            "\n",
            "* * * * * \n",
            "\n",
            "* * * * \n",
            "\n",
            "* * * \n",
            "\n",
            "* * \n",
            "\n",
            "* \n",
            "\n"
          ],
          "name": "stdout"
        }
      ]
    },
    {
      "cell_type": "markdown",
      "metadata": {
        "id": "qEpAFkliAVVw",
        "colab_type": "text"
      },
      "source": [
        "2"
      ]
    },
    {
      "cell_type": "code",
      "metadata": {
        "id": "6fjzZjU9AWcA",
        "colab_type": "code",
        "colab": {
          "base_uri": "https://localhost:8080/",
          "height": 52
        },
        "outputId": "6b3becb5-cffd-42d1-9b3f-03d1538b33d2"
      },
      "source": [
        "str=input(\"Input word:\")\n",
        "print(\"Output:\"+str[::-1])"
      ],
      "execution_count": 21,
      "outputs": [
        {
          "output_type": "stream",
          "text": [
            "Input word:Subhendu\n",
            "Output:udnehbuS\n"
          ],
          "name": "stdout"
        }
      ]
    }
  ]
}